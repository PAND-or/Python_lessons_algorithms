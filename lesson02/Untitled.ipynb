{
 "cells": [
  {
   "cell_type": "code",
   "execution_count": null,
   "metadata": {},
   "outputs": [],
   "source": [
    "a = input('введите координаты первой точки через запятую x,y: ').split(',')\n",
    "b = input('введите координаты второй точки через запятую x,y: ').split(',')\n",
    "A = int(a[1]) - int(b[1])\n",
    "B = int(b[0]) - int(a[0])\n",
    "C = int(a[0])*int(b[1]) - int(b[0])*int(a[1])\n",
    "function = '{}x + {}y + {} = 0'.format(A, B, C)\n",
    "print(function)"
   ]
  },
  {
   "cell_type": "code",
   "execution_count": null,
   "metadata": {},
   "outputs": [],
   "source": [
    "import random\n",
    "\n",
    "number_range = input('Для получения случайного числа, введите диапазон чисел от x до y в формате x,y: ').split(',')\n",
    "rand_int = random.randint(int(number_range[0]), int(number_range[1]))\n",
    "print('Случайное целое число: {}'.format(rand_int))\n",
    "\n",
    "uni_range = input('Для получения случайного вещественного числа, введите диапазон чисел от x до y в формате x,y: ').split(',')\n",
    "rand_uni = random.uniform(float(uni_range[0]), float(uni_range[1]))\n",
    "print('Случайное вещественное число: {}'.format(rand_uni))\n",
    "\n",
    "char_range = input('Для получения случайного символа, введите диапазон символов от x до y в формате x,y: ').split(',')\n",
    "chars = 'abcdefghijklmnopqrstuvwxyzABCDEFGHIJKLMNOPQRSTUVWXYZ'\n",
    "\n",
    "a = chars.index(char_range[0])\n",
    "b = chars.index(char_range[1])\n",
    "\n",
    "rand_uni = random.choice(chars[a:b])\n",
    "print('Случайное вещественное число: {}'.format(rand_uni))    "
   ]
  },
  {
   "cell_type": "code",
   "execution_count": null,
   "metadata": {},
   "outputs": [],
   "source": [
    "#5. Пользователь вводит две буквы. Определить, на каких местах алфавита они стоят и сколько между ними находится букв.\n",
    "chars = 'abcdefghijklmnopqrstuvwxyz'\n",
    "\n",
    "char_range = input('Введите диапазон символов от a до z в формате x,y: ').split(',')\n",
    "print(char_range)\n",
    "a = chars.index(char_range[0]) + 1\n",
    "b = chars.index(char_range[1]) + 1\n",
    "\n",
    "c = b - a\n",
    "\n",
    "print('Первая буква: {} - находится на {} позиции,\\\n",
    "      вторая буква {} - находится на {} позиции.\\\n",
    "      Расстояние между ними {}'.format(char_range[0], a, char_range[1], b, c))"
   ]
  },
  {
   "cell_type": "code",
   "execution_count": null,
   "metadata": {},
   "outputs": [],
   "source": [
    "chars = 'abcdefghijklmnopqrstuvwxyz'\n",
    "charindex = int(input('Введите номер буквы английского альфавита'))\n",
    "char = chars[charindex-1]\n",
    "print('Буква: {}'.format(char))"
   ]
  },
  {
   "cell_type": "code",
   "execution_count": null,
   "metadata": {},
   "outputs": [],
   "source": [
    "#7. По длинам трех отрезков, введенных пользователем, определить возможность существования треугольника, составленного из этих отрезков. Если такой треугольник существует, то определить, является ли он разносторонним, равнобедренным или равносторонним."
   ]
  },
  {
   "cell_type": "code",
   "execution_count": null,
   "metadata": {},
   "outputs": [],
   "source": [
    "list_lenght = input('Введите длины сторон треугольника через  в формате x,y,z: ').split(',')\n",
    "a = int(list_lenght[0])\n",
    "b = int(list_lenght[1])\n",
    "c = int(list_lenght[2])\n",
    "print(a,b,c)\n",
    "if (a > 0) & (b > 0) & (c > 0) & ((a+b) > c) & ((a+c) > b) & ((b+c) > a):\n",
    "    match = 0\n",
    "    if (a == b):\n",
    "        match += 1\n",
    "    if (a == c):\n",
    "        match += 1\n",
    "    if (b == c):\n",
    "        match += 1\n",
    "    if match == 3:\n",
    "        print('Это треугольник равносторонний')\n",
    "    elif match == 1:\n",
    "        print('Это треугольник равнобедренный')\n",
    "    else:\n",
    "        print('Это треугольник разносторонний')\n",
    "else:\n",
    "    print('Это не треугольник')"
   ]
  },
  {
   "cell_type": "code",
   "execution_count": null,
   "metadata": {},
   "outputs": [],
   "source": [
    "# Определить, является ли год, который ввел пользователем, високосным или невисокосным.\n",
    "year = int(input('Введите год '))\n",
    "\n",
    "if(year % 400 == 0) :\n",
    "    print('Високосный')\n",
    "elif(year % 100 == 0):\n",
    "    print('Не високосный')  \n",
    "elif(year % 4 == 0):\n",
    "    print('Високосный')\n",
    "else:\n",
    "    print('Не високосный')\n",
    "    "
   ]
  },
  {
   "cell_type": "code",
   "execution_count": null,
   "metadata": {},
   "outputs": [],
   "source": [
    "#9. Вводятся три разных числа. Найти, какое из них является средним (больше одного, но меньше другого).\n",
    "\n",
    "list_numbers = input('Введите 3 числа x,y,z: ').split(',')\n",
    "list_numbers = [int(x) for x in list_numbers]\n",
    "list_numbers.sort()\n",
    "print('Среднее число {}'.format(list_numbers[1]))\n"
   ]
  },
  {
   "cell_type": "markdown",
   "metadata": {},
   "source": [
    "1. Написать программу, которая будет складывать, вычитать, умножать или делить два числа. Числа и знак операции вводятся пользователем. После выполнения вычисления программа не должна завершаться, а должна запрашивать новые данные для вычислений. Завершение программы должно выполняться при вводе символа '0' в качестве знака операции. Если пользователь вводит неверный знак (не '0', '+', '-', '*', '/'), то программа должна сообщать ему об ошибке и снова запрашивать знак операции. Также сообщать пользователю о невозможности деления на ноль, если он ввел 0 в качестве делителя."
   ]
  },
  {
   "cell_type": "code",
   "execution_count": null,
   "metadata": {},
   "outputs": [],
   "source": [
    "while True:\n",
    "    a = int(input('Введите первое число:'))\n",
    "    operand = input('Операция (0 для выхода):')\n",
    "    b = int(input('Введите второе число:'))\n",
    "    if operand == '0':\n",
    "        print('Пока')\n",
    "        break\n",
    "    elif operand == '+':\n",
    "        print(f'Ответ: {a+b}\\n')\n",
    "    elif operand == '-': \n",
    "        print(f'Ответ: {a-b}\\n')\n",
    "    elif operand == '*':\n",
    "        print(f'Ответ: {a*b}\\n')\n",
    "    elif operand == '/':\n",
    "        if b == 0:\n",
    "            print('На 0 делить нельзя!\\n')\n",
    "        else:\n",
    "            print(f'Ответ: {a/b}\\n')\n",
    "    else:\n",
    "        print('Не верный знак операции\\n')"
   ]
  },
  {
   "cell_type": "markdown",
   "metadata": {},
   "source": [
    "2. Посчитать четные и нечетные цифры введенного натурального числа. Например, если введено число 34560, то у него 3 четные цифры (4, 6 и 0) и 2 нечетные (3 и 5).\n"
   ]
  },
  {
   "cell_type": "code",
   "execution_count": null,
   "metadata": {},
   "outputs": [],
   "source": [
    "def chet_nechet(a, n):\n",
    "    if n == 1:\n",
    "        print(a, 'n=', n)\n",
    "    else:\n",
    "        a  = a // 10**n\n",
    "        print(10 ** n)\n",
    "        print(chet_nechet(a, n-1), 'n=', n)\n",
    "        \n",
    "val = input('Введите натуральное число:')\n",
    "chet_nechet(int(val), len(val))"
   ]
  },
  {
   "cell_type": "code",
   "execution_count": null,
   "metadata": {},
   "outputs": [],
   "source": [
    "def recursion(n, chet=0, nechet=0):\n",
    "    if(n % 10) % 2 == 0:\n",
    "        chet +=1\n",
    "    else:\n",
    "        nechet +=1\n",
    "    if (n < 10): #базовый случай\n",
    "        return f'chet={chet}, nechet={nechet}'\n",
    "    else: #Шаг рекурсии \n",
    "        return recursion(n // 10, chet, nechet)\n",
    "\n",
    "val = input('Введите натуральное число:')\n",
    "print(recursion(int(val)))"
   ]
  },
  {
   "cell_type": "markdown",
   "metadata": {},
   "source": [
    "3. Сформировать из введенного числа обратное по порядку входящих в него цифр и вывести на экран. Например, если введено число 3486, то надо вывести число 6843.\n"
   ]
  },
  {
   "cell_type": "code",
   "execution_count": null,
   "metadata": {},
   "outputs": [],
   "source": [
    "def recursion(n, z=f''):\n",
    "    if (n < 10): #базовый случай\n",
    "        z += str(n)\n",
    "        return int(z)\n",
    "    else: #Шаг рекурсии \n",
    "        z += str(n % 10)\n",
    "        return recursion(n // 10, z)\n",
    "\n",
    "val = input('Введите натуральное число:')\n",
    "recursion(int(val))"
   ]
  },
  {
   "cell_type": "markdown",
   "metadata": {},
   "source": [
    "4. Найти сумму n элементов следующего ряда чисел: 1 -0.5 0.25 -0.125 ...Количество элементов (n) вводится с клавиатуры.\n"
   ]
  },
  {
   "cell_type": "code",
   "execution_count": null,
   "metadata": {},
   "outputs": [],
   "source": [
    "summa = 0\n",
    "print('Подсчет суммы чисел, для завершения введите \"exit\"')\n",
    "while True:\n",
    "    a = float(input('Число: '))\n",
    "    if a == 'exit':\n",
    "        break\n",
    "    else:\n",
    "        summa += a\n",
    "        print(f'Сумма: {summa}')"
   ]
  },
  {
   "cell_type": "markdown",
   "metadata": {},
   "source": [
    "5. Вывести на экран коды и символы таблицы ASCII, начиная с символа под номером 32 и заканчивая 127-м включительно. Вывод выполнить в табличной форме: по десять пар «код-символ» в каждой строке.\n"
   ]
  },
  {
   "cell_type": "code",
   "execution_count": null,
   "metadata": {},
   "outputs": [],
   "source": [
    "def rowchar(s, e, r):\n",
    "    n = 0\n",
    "    pattern = ''\n",
    "    res = f''\n",
    "\n",
    "    pattern = '|{:5}' * r\n",
    "    print(pattern)\n",
    "    result = ()\n",
    "    for i in range(s, e):\n",
    "        if(n > r):\n",
    "            n=0\n",
    "            res += pattern.format(tuple(result)\n",
    "            res += '\\n'\n",
    "            result = []\n",
    "        n +=1\n",
    "        result.append(f'{i}: chr(i)')\n",
    "        res += pattern.format()\n",
    "    print(pattern)\n",
    "    #return res\n",
    "print(rowchar(32, 127, 10))\n",
    "\n",
    "\n",
    "row_format =\"{:>15}\" * (len(teams_list) + 1)\n",
    "print row_format.format(\"\", *teams_list)\n",
    "for team, row in zip(teams_list, data):\n",
    "    print row_format.format(team, *row)"
   ]
  },
  {
   "cell_type": "code",
   "execution_count": null,
   "metadata": {},
   "outputs": [],
   "source": [
    "def row_construct(t, r):\n",
    "    pattern = '| {:<3}: {:<2} ' * r + '|'\n",
    "    return  pattern.format(*t)\n",
    "\n",
    "def rowchar(s, e, r):\n",
    "    row = []\n",
    "    result = ''\n",
    "    for i in range(s, e):\n",
    "        row.append(i)\n",
    "        row.append(chr(i))\n",
    "        if len(row) >= r*2:\n",
    "            result += row_construct(tuple(row), r) + '\\n'\n",
    "            row = []\n",
    "    if len(row) > 0:\n",
    "        result += row_construct(tuple(row), len(row) // 2) \n",
    "    return result\n",
    "print(rowchar(32, 127, 10))"
   ]
  },
  {
   "cell_type": "markdown",
   "metadata": {},
   "source": [
    "6. В программе генерируется случайное целое число от 0 до 100. Пользователь должен его отгадать не более чем за 10 попыток. После каждой неудачной попытки должно сообщаться, больше или меньше загаданного введенное пользователем число. Если за 10 попыток число не отгадано, то вывести его.\n"
   ]
  },
  {
   "cell_type": "code",
   "execution_count": null,
   "metadata": {},
   "outputs": [],
   "source": [
    "import random\n",
    "rand_number = random.randint(1, 100)\n",
    "print('Компьютер загадал число от 1 до 100, угадай его, у тебя 10 попыток!')\n",
    "count = 10\n",
    "print(rand_number)\n",
    "while True:\n",
    "    if count == 0:\n",
    "        print('попыток больше нет')\n",
    "        break\n",
    "    a = int(input('Число: '))\n",
    "    if a == rand_number:\n",
    "        print('Ты угадал ! :(')\n",
    "        break\n",
    "    elif a > rand_number:\n",
    "        count -=1\n",
    "        print('Искомое число меньше твоего')\n",
    "    elif a < rand_number:\n",
    "        count -=1\n",
    "        print('Искомое число больше твоего')"
   ]
  },
  {
   "cell_type": "markdown",
   "metadata": {},
   "source": [
    "## 7. Написать программу, доказывающую или проверяющую, что для множества натуральных чисел выполняется равенство: 1+2+...+n = n(n+1)/2, где n – любое натуральное число.\n"
   ]
  },
  {
   "cell_type": "markdown",
   "metadata": {},
   "source": [
    "8. Посчитать, сколько раз встречается определенная цифра в введенной последовательности чисел. Количество вводимых чисел и цифра, которую необходимо посчитать, задаются вводом с клавиатуры.\n"
   ]
  },
  {
   "cell_type": "code",
   "execution_count": 1,
   "metadata": {},
   "outputs": [
    {
     "name": "stdout",
     "output_type": "stream",
     "text": [
      "искомое число: 1\n",
      "Вводите последовательность чисел, для завершения введите \"exit\"\n",
      "Последовательность чисел: 123\n"
     ]
    },
    {
     "ename": "TypeError",
     "evalue": "find_number() missing 1 required positional argument: 'f'",
     "output_type": "error",
     "traceback": [
      "\u001b[1;31m---------------------------------------------------------------------------\u001b[0m",
      "\u001b[1;31mTypeError\u001b[0m                                 Traceback (most recent call last)",
      "\u001b[1;32m<ipython-input-1-05270d800640>\u001b[0m in \u001b[0;36m<module>\u001b[1;34m()\u001b[0m\n\u001b[0;32m     17\u001b[0m     \u001b[1;32mif\u001b[0m \u001b[0ma\u001b[0m \u001b[1;33m==\u001b[0m \u001b[1;34m'exit'\u001b[0m\u001b[1;33m:\u001b[0m\u001b[1;33m\u001b[0m\u001b[0m\n\u001b[0;32m     18\u001b[0m         \u001b[1;32mbreak\u001b[0m\u001b[1;33m\u001b[0m\u001b[0m\n\u001b[1;32m---> 19\u001b[1;33m     \u001b[0mcount\u001b[0m \u001b[1;33m+=\u001b[0m \u001b[0mfind_number\u001b[0m\u001b[1;33m(\u001b[0m\u001b[0ma\u001b[0m\u001b[1;33m)\u001b[0m\u001b[1;33m\u001b[0m\u001b[0m\n\u001b[0m\u001b[0;32m     20\u001b[0m     \u001b[0mprint\u001b[0m\u001b[1;33m(\u001b[0m\u001b[1;34mf'найдено {count} раз'\u001b[0m\u001b[1;33m)\u001b[0m\u001b[1;33m\u001b[0m\u001b[0m\n\u001b[0;32m     21\u001b[0m \u001b[1;33m\u001b[0m\u001b[0m\n",
      "\u001b[1;31mTypeError\u001b[0m: find_number() missing 1 required positional argument: 'f'"
     ]
    }
   ],
   "source": [
    "find = int(input('искомое число: '))\n",
    "print('Вводите последовательность чисел, для завершения введите \"exit\"')\n",
    "count = 0\n",
    "\n",
    "def find_number(n, f, z=0):\n",
    "    if n < 10: #базовый случай\n",
    "        if n == f:\n",
    "            z += 1\n",
    "        return int(z)\n",
    "    else: #Шаг рекурсии\n",
    "        if int(n % 10) == f:\n",
    "            z += 1\n",
    "        return recsum(n // 10, f, z)\n",
    "\n",
    "while True:\n",
    "    a = int(input('Последовательность чисел: '))\n",
    "    if a == 'exit':\n",
    "        break\n",
    "    count += find_number(aб)\n",
    "    print(f'найдено {count} раз')\n",
    "    "
   ]
  },
  {
   "cell_type": "markdown",
   "metadata": {},
   "source": [
    "9. Среди натуральных чисел, которые были введены, найти наибольшее по сумме цифр. Вывести на экран это число и сумму его цифр.\n"
   ]
  },
  {
   "cell_type": "code",
   "execution_count": null,
   "metadata": {},
   "outputs": [],
   "source": [
    "def recsum(n, z=0):\n",
    "    if (n < 10): #базовый случай\n",
    "        z += n\n",
    "        return int(z)\n",
    "    else: #Шаг рекурсии \n",
    "        z += int(n % 10)\n",
    "        return recsum(n // 10, z)\n",
    "\n",
    "max_sum = 0\n",
    "max_int = 0\n",
    "print('Подсчет суммы цифр числа и нахождение большей, для завершения введите \"exit\"')\n",
    "while True:\n",
    "    a = int(input('Число: '))\n",
    "    if a == 'exit':\n",
    "        break\n",
    "    sum_a = recsum(a)\n",
    "    if(max_sum < sum_a):\n",
    "        max_sum = sum_a\n",
    "        max_int = a\n",
    "    print(f'Максимальная сумма {max_sum}, максимальное число {max_int}')\n",
    "    "
   ]
  },
  {
   "cell_type": "code",
   "execution_count": null,
   "metadata": {},
   "outputs": [],
   "source": []
  }
 ],
 "metadata": {
  "kernelspec": {
   "display_name": "Python 3",
   "language": "python",
   "name": "python3"
  },
  "language_info": {
   "codemirror_mode": {
    "name": "ipython",
    "version": 3
   },
   "file_extension": ".py",
   "mimetype": "text/x-python",
   "name": "python",
   "nbconvert_exporter": "python",
   "pygments_lexer": "ipython3",
   "version": "3.6.6"
  }
 },
 "nbformat": 4,
 "nbformat_minor": 2
}
