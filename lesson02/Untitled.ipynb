{
 "cells": [
  {
   "cell_type": "code",
   "execution_count": 3,
   "metadata": {},
   "outputs": [
    {
     "name": "stdout",
     "output_type": "stream",
     "text": [
      "Введите натуральное число:123456\n",
      "chet=3, nechet=3\n"
     ]
    }
   ],
   "source": [
    "def recursion(n, chet=0, nechet=0):\n",
    "    if n % 2 == 0:\n",
    "        chet +=1\n",
    "    else:\n",
    "        nechet +=1\n",
    "    if (n < 10): #базовый случай\n",
    "        return f'chet={chet}, nechet={nechet}'\n",
    "    else: #Шаг рекурсии \n",
    "        return recursion(n // 10, chet, nechet)\n",
    "\n",
    "val = input('Введите натуральное число:')\n",
    "print(recursion(int(val)))"
   ]
  },
  {
   "cell_type": "code",
   "execution_count": 7,
   "metadata": {},
   "outputs": [
    {
     "name": "stdout",
     "output_type": "stream",
     "text": [
      "Подсчет суммы чисел ряда  1 -0.5 0.25 -0.125 ...\n",
      "Число n: 2\n",
      "-0.5\n",
      "Сумма: 0.5\n"
     ]
    }
   ],
   "source": [
    "#!/usr/bin/python3\n",
    "__author__ = \"Андрей Петров\"\n",
    "\n",
    "\n",
    "\"\"\"\n",
    "4. Найти сумму n элементов следующего ряда чисел: 1 -0.5 0.25 -0.125 ...Количество элементов (n) вводится с клавиатуры.\n",
    "\"\"\"\n",
    "\n",
    "summa = 1\n",
    "print('Подсчет суммы чисел ряда  1 -0.5 0.25 -0.125 ...')\n",
    "n = int(input('Число n: '))\n",
    "\n",
    "x = 1\n",
    "for i in range(0, n-1):\n",
    "    x = x / -2\n",
    "    summa += x\n",
    "    \n",
    "print(f'Сумма: {summa}')"
   ]
  },
  {
   "cell_type": "code",
   "execution_count": null,
   "metadata": {},
   "outputs": [],
   "source": []
  }
 ],
 "metadata": {
  "kernelspec": {
   "display_name": "Python 3",
   "language": "python",
   "name": "python3"
  },
  "language_info": {
   "codemirror_mode": {
    "name": "ipython",
    "version": 3
   },
   "file_extension": ".py",
   "mimetype": "text/x-python",
   "name": "python",
   "nbconvert_exporter": "python",
   "pygments_lexer": "ipython3",
   "version": "3.6.6"
  }
 },
 "nbformat": 4,
 "nbformat_minor": 2
}
